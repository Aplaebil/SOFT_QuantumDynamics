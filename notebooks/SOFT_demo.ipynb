{
 "cells": [
  {
   "cell_type": "markdown",
   "metadata": {},
   "source": [
    "# SOFT Demo Notebook\n",
    "\n",
    "This notebook demonstrates how to use the Split-Operator Fourier Transform method in 1D."
   ]
  },
  {
   "cell_type": "code",
   "execution_count": null,
   "metadata": {},
   "outputs": [],
   "source": [
    "import sys\n",
    "sys.path.append(\"../src\")\n",
    "import numpy as np\n",
    "from initialize_system import initialize_system\n",
    "from potential import potential_function\n",
    "from evolve import evolve_wavefunction\n",
    "from visualize import visualize_results"
   ]
  },
  {
   "cell_type": "code",
   "execution_count": 1,
   "metadata": {},
   "outputs": [
    {
     "ename": "NameError",
     "evalue": "name 'initialize_system' is not defined",
     "output_type": "error",
     "traceback": [
      "\u001b[0;31m---------------------------------------------------------------------------\u001b[0m",
      "\u001b[0;31mNameError\u001b[0m                                 Traceback (most recent call last)",
      "Cell \u001b[0;32mIn[1], line 13\u001b[0m\n\u001b[1;32m     10\u001b[0m total_time \u001b[38;5;241m=\u001b[39m \u001b[38;5;241m2.0\u001b[39m\n\u001b[1;32m     12\u001b[0m \u001b[38;5;66;03m# Initialize\u001b[39;00m\n\u001b[0;32m---> 13\u001b[0m x, dx, psi, k, dk \u001b[38;5;241m=\u001b[39m \u001b[43minitialize_system\u001b[49m(xmin, xmax, N, x0, sigma, k0, hbar, m)\n\u001b[1;32m     15\u001b[0m \u001b[38;5;66;03m# Potential (e.g., barrier)\u001b[39;00m\n\u001b[1;32m     16\u001b[0m V0 \u001b[38;5;241m=\u001b[39m \u001b[38;5;241m10.0\u001b[39m\n",
      "\u001b[0;31mNameError\u001b[0m: name 'initialize_system' is not defined"
     ]
    }
   ],
   "source": [
    "# Define parameters\n",
    "xmin, xmax = -10.0, 10.0\n",
    "N = 2**10\n",
    "x0 = -5.0\n",
    "sigma = 1.0\n",
    "k0 = 3.0\n",
    "hbar = 1.0\n",
    "m = 1.0\n",
    "dt = 0.01\n",
    "total_time = 2.0\n",
    "\n",
    "# Initialize\n",
    "x, dx, psi, k, dk = initialize_system(xmin, xmax, N, x0, sigma, k0, hbar, m)\n",
    "\n",
    "# Potential (e.g., barrier)\n",
    "V0 = 10.0\n",
    "a = 1.0\n",
    "V = potential_function(x, potential_type='barrier', V0=V0, a=a)\n",
    "\n",
    "num_steps = int(total_time / dt)\n",
    "for step in range(num_steps):\n",
    "    psi = evolve_wavefunction(psi, V, dt, dx, k, hbar, m)\n",
    "\n",
    "# Plot final result\n",
    "visualize_results(x, psi, num_steps, potential=V, save_fig=False)"
   ]
  },
  {
   "cell_type": "code",
   "execution_count": null,
   "metadata": {},
   "outputs": [],
   "source": []
  }
 ],
 "metadata": {
  "kernelspec": {
   "display_name": "Python 3 (ipykernel)",
   "language": "python",
   "name": "python3"
  },
  "language_info": {
   "codemirror_mode": {
    "name": "ipython",
    "version": 3
   },
   "file_extension": ".py",
   "mimetype": "text/x-python",
   "name": "python",
   "nbconvert_exporter": "python",
   "pygments_lexer": "ipython3",
   "version": "3.13.0"
  }
 },
 "nbformat": 4,
 "nbformat_minor": 4
}
