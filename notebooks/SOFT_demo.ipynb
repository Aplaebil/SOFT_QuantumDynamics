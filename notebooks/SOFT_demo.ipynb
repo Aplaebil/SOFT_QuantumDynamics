{
 "cells": [
  {
   "cell_type": "markdown",
   "metadata": {},
   "source": [
    "# SOFT Demo Notebook\n",
    "\n",
    "This notebook demonstrates how to use the Split-Operator Fourier Transform method in 1D."
   ]
  },
  {
   "cell_type": "code",
   "metadata": {},
   "source": [
    "import sys\n",
    "sys.path.append(\"../src\")\n",
    "import numpy as np\n",
    "from initialize_system import initialize_system\n",
    "from potential import potential_function\n",
    "from evolve import evolve_wavefunction\n",
    "from visualize import visualize_results"
   ],
   "execution_count": null,
   "outputs": []
  },
  {
   "cell_type": "code",
   "metadata": {},
   "source": [
    "# Define parameters\n",
    "xmin, xmax = -10.0, 10.0\n",
    "N = 2**10\n",
    "x0 = -5.0\n",
    "sigma = 1.0\n",
    "k0 = 3.0\n",
    "hbar = 1.0\n",
    "m = 1.0\n",
    "dt = 0.01\n",
    "total_time = 2.0\n",
    "\n",
    "# Initialize\n",
    "x, dx, psi, k, dk = initialize_system(xmin, xmax, N, x0, sigma, k0, hbar, m)\n",
    "\n",
    "# Potential (e.g., barrier)\n",
    "V0 = 10.0\n",
    "a = 1.0\n",
    "V = potential_function(x, potential_type='barrier', V0=V0, a=a)\n",
    "\n",
    "num_steps = int(total_time / dt)\n",
    "for step in range(num_steps):\n",
    "    psi = evolve_wavefunction(psi, V, dt, dx, k, hbar, m)\n",
    "\n",
    "# Plot final result\n",
    "visualize_results(x, psi, num_steps, potential=V, save_fig=False)"
   ],
   "execution_count": null,
   "outputs": []
  }
 ],
 "metadata": {
  "kernelspec": {
   "display_name": "Python 3",
   "language": "python",
   "name": "python3"
  },
  "language_info": {
   "name": "python"
  }
 },
 "nbformat": 4,
 "nbformat_minor": 2
}

