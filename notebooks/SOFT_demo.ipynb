{
  "cells": [
    {
      "cell_type": "markdown",
      "metadata": {},
      "source": [
        "# SOFT Demo Notebook (3D)\n",
        "\n",
        "This notebook demonstrates how to use the Split-Operator Fourier Transform method in **3D**."
      ]
    },
    {
      "cell_type": "code",
      "metadata": {},
      "outputs": [],
      "source": [
        "import sys\n",
        "sys.path.append(\"../src\")  # So we can import the local 'src' package\n",
        "\n",
        "import numpy as np\n",
        "\n",
        "# Import the 3D versions of these functions\n",
        "from initialize_system import initialize_system          # returns (X, Y, Z, dx, psi, KX, KY, KZ, dk)\n",
        "from potential import potential_function                # handles 3D arrays\n",
        "from evolve import evolve_wavefunction                  # uses np.fft.fftn and np.fft.ifftn\n",
        "from visualize import visualize_results_3d              # plots a 2D slice of 3D |psi|^2\n"
      ]
    },
    {
      "cell_type": "code",
      "metadata": {},
      "outputs": [],
      "source": [
        "# Define parameters for a quick 3D demo\n",
        "xmin, xmax = -10.0, 10.0\n",
        "N = 64  # 3D grid size\n",
        "x0, y0, z0 = -5.0, 0.0, 0.0\n",
        "sigma = 1.0\n",
        "kx0, ky0, kz0 = 3.0, 0.0, 0.0\n",
        "hbar = 1.0\n",
        "m = 1.0\n",
        "dt = 0.01\n",
        "total_time = 2.0\n",
        "\n",
        "# Initialize the 3D system\n",
        "X, Y, Z, dx, psi, KX, KY, KZ, dk = initialize_system(\n",
        "    xmin, xmax, N,\n",
        "    x0, y0, z0,\n",
        "    sigma,\n",
        "    kx0, ky0, kz0,\n",
        "    hbar, m\n",
        ")\n",
        "\n",
        "# Define a 3D barrier potential\n",
        "V0 = 10.0\n",
        "a = 1.0\n",
        "V = potential_function(X, Y, Z, potential_type='barrier', V0=V0, a=a)\n",
        "\n",
        "# Time evolution\n",
        "num_steps = int(total_time / dt)\n",
        "for step in range(num_steps):\n",
        "    psi = evolve_wavefunction(psi, V, dt, dx, KX, KY, KZ, hbar, m)\n",
        "\n",
        "# Visualize a slice of the final wavefunction\n",
        "visualize_results_3d(\n",
        "    X, Y, psi,\n",
        "    step=num_steps,\n",
        "    potential=V,\n",
        "    z_index=N//2,  # middle slice in z\n",
        "    save_fig=False\n",
        ")"
      ]
    }
  ],
  "metadata": {
    "kernelspec": {
      "display_name": "Python 3 (ipykernel)",
      "language": "python",
      "name": "python3"
    },
    "language_info": {
      "codemirror_mode": {
        "name": "ipython",
        "version": 3
      },
      "file_extension": ".py",
      "mimetype": "text/x-python",
      "name": "python",
      "nbconvert_exporter": "python",
      "pygments_lexer": "ipython3",
      "version": "3.10"
    }
  },
  "nbformat": 4,
  "nbformat_minor": 5
}

