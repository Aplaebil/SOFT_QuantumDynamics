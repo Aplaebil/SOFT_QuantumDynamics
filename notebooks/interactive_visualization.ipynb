{
 "cells": [
  {
   "cell_type": "markdown",
   "metadata": {},
   "source": [
    "# Interactive 3D Visualization Notebook\n",
    "Use ipywidgets to vary the barrier height or width in real-time for a **3D** wave packet.\n",
    "\n",
    "Instructions:\n",
    "- Adjust the sliders for `V0` (barrier height) and `a` (size of the barrier region). \n",
    "- A 3D wave packet will be initialized, evolved for some time, and a 2D slice will be plotted."
    ]
  },
  {
   "cell_type": "code",
   "metadata": {},
   "source": [
    "import sys\n",
    "sys.path.append(\"../src\")\n",
    "import numpy as np\n",
    "import ipywidgets as widgets\n",
    "from IPython.display import display\n",
    "\n",
    "from initialize_system import initialize_system\n",
    "from potential import potential_function\n",
    "from evolve import evolve_wavefunction\n",
    "from visualize import visualize_results_3d\n",
    "\n",
    "def run_simulation_3d(V0=10.0, a=1.0):\n",
    "    # 3D parameters\n",
    "    xmin, xmax = -10.0, 10.0\n",
    "    N = 32           # smaller grid for faster interactive updates\n",
    "    x0, y0, z0 = -5.0, 0.0, 0.0\n",
    "    sigma = 1.0\n",
    "    kx0, ky0, kz0 = 3.0, 0.0, 0.0\n",
    "    hbar = 1.0\n",
    "    m = 1.0\n",
    "    dt = 0.01\n",
    "    total_time = 1.0\n",
    "\n",
    "    # Initialize system in 3D\n",
    "    (X, Y, Z,\n",
    "     dx,\n",
    "     psi,\n",
    "     KX, KY, KZ,\n",
    "     dk) = initialize_system(\n",
    "         xmin, xmax, N,\n",
    "         x0, y0, z0,\n",
    "         sigma,\n",
    "         kx0, ky0, kz0,\n",
    "         hbar, m\n",
    "    )\n",
    "\n",
    "    # Barrier potential in 3D\n",
    "    V = potential_function(X, Y, Z, potential_type='barrier', V0=V0, a=a)\n",
    "\n",
    "    # Evolve wavefunction for some steps\n",
    "    num_steps = int(total_time / dt)\n",
    "    for _ in range(num_steps):\n",
    "        psi = evolve_wavefunction(psi, V, dt, dx, KX, KY, KZ, hbar, m)\n",
    "\n",
    "    # Visualize final state, 2D slice in z\n",
    "    visualize_results_3d(X, Y, psi, step=num_steps, potential=V,\n",
    "                        z_index=N//2,\n",
    "                        save_fig=False)\n",
    "\n",
    "# Create interactive sliders for V0 and a\n",
    "slider_V0 = widgets.FloatSlider(min=0, max=50, step=1, value=10, description='Barrier Height')\n",
    "slider_a = widgets.FloatSlider(min=0.1, max=3.0, step=0.1, value=1.0, description='Barrier Half-Width')\n",
    "\n",
    "# Attach the sliders to the run_simulation_3d function\n",
    "widgets.interact(run_simulation_3d, V0=slider_V0, a=slider_a)"
   ],
   "execution_count": null,
   "outputs": []
  }
 ],
 "metadata": {
  "kernelspec": {
   "display_name": "Python 3 (ipykernel)",
   "language": "python",
   "name": "python3"
  },
  "language_info": {
   "name": "python"
  }
 },
 "nbformat": 4,
 "nbformat_minor": 2
}

