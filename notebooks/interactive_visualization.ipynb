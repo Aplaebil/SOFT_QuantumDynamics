{
 "cells": [
  {
   "cell_type": "markdown",
   "metadata": {},
   "source": [
    "# Interactive Visualization Notebook\n",
    "Use ipywidgets to vary the barrier height or well width in real-time."
   ]
  },
  {
   "cell_type": "code",
   "metadata": {},
   "source": [
    "import sys\n",
    "sys.path.append(\"../src\")\n",
    "import numpy as np\n",
    "import ipywidgets as widgets\n",
    "from IPython.display import display\n",
    "\n",
    "from initialize_system import initialize_system\n",
    "from potential import potential_function\n",
    "from evolve import evolve_wavefunction\n",
    "from visualize import visualize_results\n",
    "\n",
    "def run_simulation(V0=10.0, a=1.0):\n",
    "    xmin, xmax = -10.0, 10.0\n",
    "    N = 2**10\n",
    "    x0 = -5.0\n",
    "    sigma = 1.0\n",
    "    k0 = 3.0\n",
    "    hbar = 1.0\n",
    "    m = 1.0\n",
    "    dt = 0.01\n",
    "    total_time = 1.0\n",
    "\n",
    "    x, dx, psi, k, dk = initialize_system(xmin, xmax, N, x0, sigma, k0, hbar, m)\n",
    "    V = potential_function(x, potential_type='barrier', V0=V0, a=a)\n",
    "\n",
    "    num_steps = int(total_time / dt)\n",
    "    for step in range(num_steps):\n",
    "        psi = evolve_wavefunction(psi, V, dt, dx, k, hbar, m)\n",
    "\n",
    "    visualize_results(x, psi, num_steps, potential=V, save_fig=False)\n",
    "\n",
    "widgets.interact(run_simulation,\n",
    "                 V0=widgets.FloatSlider(min=0, max=50, step=1, value=10),\n",
    "                 a=widgets.FloatSlider(min=0.1, max=3.0, step=0.1, value=1.0))"
   ],
   "execution_count": null,
   "outputs": []
  }
 ],
 "metadata": {
  "kernelspec": {
   "display_name": "Python 3",
   "language": "python",
   "name": "python3"
  },
  "language_info": {
   "name": "python"
  }
 },
 "nbformat": 4,
 "nbformat_minor": 2
}

